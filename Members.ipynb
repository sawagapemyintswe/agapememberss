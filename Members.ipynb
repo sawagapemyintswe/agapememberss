{
  "nbformat": 4,
  "nbformat_minor": 0,
  "metadata": {
    "colab": {
      "provenance": []
    },
    "kernelspec": {
      "name": "python3",
      "display_name": "Python 3"
    },
    "language_info": {
      "name": "python"
    }
  },
  "cells": [
    {
      "cell_type": "code",
      "execution_count": 22,
      "metadata": {
        "colab": {
          "base_uri": "https://localhost:8080/"
        },
        "id": "GwUlbd2T2M7X",
        "outputId": "e0774048-16ad-4d0b-c770-c363aa3ef89c"
      },
      "outputs": [
        {
          "output_type": "stream",
          "name": "stdout",
          "text": [
            "Membership No  Date Joined  Active  \n",
            "    20364      2016-6-11    no    \n",
            "    51945      2015-4-10    yes   \n",
            "    88053      2016-2-19    yes   \n",
            "    49743      2020-4-12    yes   \n",
            "    49109      2016-4-12    no    \n",
            "    36642      2018-11-16   no    \n",
            "    21690      2016-11-19   yes   \n",
            "    43779      2020-6-9     yes   \n",
            "    42687      2017-9-12    yes   \n",
            "    32923      2020-4-25    no    \n",
            "    76363      2016-1-23    no    \n",
            "    54779      2016-6-24    no    \n",
            "    49827      2019-8-1     no    \n",
            "    21077      2016-3-25    no    \n",
            "    70880      2020-3-7     yes   \n",
            "    46937      2016-6-24    yes   \n",
            "    15432      2015-1-4     no    \n",
            "    63456      2020-2-11    no    \n",
            "    37395      2019-4-6     yes   \n",
            "    43411      2018-2-1     no    \n",
            "\n",
            "Membership No  Date Joined  Active \n",
            "    51945      2015-4-10    yes \n",
            "    88053      2016-2-19    yes \n",
            "    49743      2020-4-12    yes \n",
            "    21690      2016-11-19   yes \n",
            "    43779      2020-6-9     yes \n",
            "    42687      2017-9-12    yes \n",
            "    70880      2020-3-7     yes \n",
            "    46937      2016-6-24    yes \n",
            "    37395      2019-4-6     yes \n",
            "\n",
            "Membership No  Date Joined  Inactive \n",
            "    20364      2016-6-11    no \n",
            "    49109      2016-4-12    no \n",
            "    36642      2018-11-16   no \n",
            "    32923      2020-4-25    no \n",
            "    76363      2016-1-23    no \n",
            "    54779      2016-6-24    no \n",
            "    49827      2019-8-1     no \n",
            "    21077      2016-3-25    no \n",
            "    15432      2015-1-4     no \n",
            "    63456      2020-2-11    no \n",
            "    43411      2018-2-1     no\n",
            "\n"
          ]
        }
      ],
      "source": [
        "with open('members.txt','r') as members:\n",
        "  R = members.read()\n",
        "print(R)\n",
        "\n",
        "active_members = open('active_members.txt','w')\n",
        "print('Membership No  Date Joined  Active \\n    51945      2015-4-10    yes \\n    88053      2016-2-19    yes \\n    49743      2020-4-12    yes \\n    21690      2016-11-19   yes \\n    43779      2020-6-9     yes \\n    42687      2017-9-12    yes \\n    70880      2020-3-7     yes \\n    46937      2016-6-24    yes \\n    37395      2019-4-6     yes ', file=active_members)\n",
        "active_members.close()\n",
        "READ_active =open('active_members.txt').read()\n",
        "print(READ_active)\n",
        "\n",
        "inactive_members = open('inactive_members.txt', 'w')\n",
        "print('Membership No  Date Joined  Inactive \\n    20364      2016-6-11    no \\n    49109      2016-4-12    no \\n    36642      2018-11-16   no \\n    32923      2020-4-25    no \\n    76363      2016-1-23    no \\n    54779      2016-6-24    no \\n    49827      2019-8-1     no \\n    21077      2016-3-25    no \\n    15432      2015-1-4     no \\n    63456      2020-2-11    no \\n    43411      2018-2-1     no', file=inactive_members)\n",
        "inactive_members.close()\n",
        "READ_inactive =open('inactive_members.txt').read()\n",
        "print(READ_inactive)\n",
        "\n",
        "\n",
        "\n",
        "\n"
      ]
    }
  ]
}